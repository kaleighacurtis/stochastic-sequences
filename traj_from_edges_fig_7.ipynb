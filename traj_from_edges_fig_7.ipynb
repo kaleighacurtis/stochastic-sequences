{
 "cells": [
  {
   "cell_type": "markdown",
   "metadata": {},
   "source": [
    "# Code for generating Fig. 7"
   ]
  },
  {
   "cell_type": "markdown",
   "metadata": {},
   "source": [
    "## Imports"
   ]
  },
  {
   "cell_type": "code",
   "execution_count": 1,
   "metadata": {},
   "outputs": [],
   "source": [
    "import numpy as np \n",
    "import matplotlib.pyplot as plt\n",
    "import pandas as pd\n",
    "from alphashape import alphashape\n",
    "from matplotlib.collections import LineCollection\n",
    "import torch\n",
    "from torch import nn\n",
    "import json\n",
    "from sklearn.model_selection import GroupShuffleSplit\n",
    "from shapely.geometry import Point\n",
    "\n",
    "#Getting the full manifold data\n",
    "df = pd.read_csv('no_avg_dataset.csv')\n",
    "\n",
    "#Getting the alpha shape\n",
    "z_array = np.concatenate((np.asarray(df[\"Z0\"]).reshape(-1,1), np.asarray(df[\"Z1\"]).reshape(-1,1)), axis = 1)\n",
    "alpha_shape = alphashape(z_array, alpha = 1)\n",
    "\n",
    "seqs = np.unique(df[\"Sequence\"])\n",
    "ps = np.unique(df[\"p\"])"
   ]
  },
  {
   "cell_type": "markdown",
   "metadata": {},
   "source": [
    "## Alpha shape code and NN class "
   ]
  },
  {
   "cell_type": "code",
   "execution_count": 2,
   "metadata": {},
   "outputs": [],
   "source": [
    "def plot_alpha_shape(alpha_shape, ax = None):\n",
    "    if ax is None:\n",
    "        plt.plot(*alpha_shape.exterior.xy, color='black', linewidth=1, label='Alpha Shape')\n",
    "        \n",
    "    else:\n",
    "        ax.plot(*alpha_shape.exterior.xy, color='black', linewidth=1, label='Alpha Shape')"
   ]
  },
  {
   "cell_type": "code",
   "execution_count": 9,
   "metadata": {},
   "outputs": [],
   "source": [
    "#Always run\n",
    "\n",
    "class MLPRegressor(nn.Module):\n",
    "    def __init__(self, input_size, output_size, hidden_size=(100, ), activation=nn.ReLU()):\n",
    "        torch.manual_seed(0)  # control random effects\n",
    "\n",
    "        super(MLPRegressor, self).__init__()\n",
    "\n",
    "        layers = []\n",
    "        prev_layer_size = input_size\n",
    "        for layer_size in hidden_size:\n",
    "            layers.append(nn.Linear(prev_layer_size, layer_size))\n",
    "            layers.append(activation)\n",
    "            prev_layer_size = layer_size\n",
    "\n",
    "        layers.append(nn.Linear(prev_layer_size, output_size))\n",
    "        self.fc_layers = nn.Sequential(*layers)\n",
    "\n",
    "    def forward(self, x):\n",
    "        #x = x.clone().detach().requires_grad_(True)\n",
    "        x = self.fc_layers(x)\n",
    "        return x\n",
    "    \n",
    "\n",
    "# create a data structure to convert from str input to nn function\n",
    "activation_dict = {'tanh': nn.Tanh(),\n",
    "                   'relu': nn.ReLU(),\n",
    "                   'leaky_relu': nn.LeakyReLU(),\n",
    "                   'sigmoid': nn.Sigmoid(),\n",
    "                   'elu': nn.ELU()}\n",
    "\n",
    "def generate_model_and_optimizer(params):\n",
    "    # create a list of layer sizes from the start, end, and depth\n",
    "    raw_dims = np.linspace(params[\"layer_i\"], params[\"layer_f\"], params[\"num_layers\"])\n",
    "    hidden_size = tuple(raw_dims.round().astype(int))\n",
    "    # choose the activation function\n",
    "    activation = activation_dict[params['activation']]\n",
    "\n",
    "    # initialize the model\n",
    "    model = MLPRegressor(3, 2, hidden_size, activation)\n",
    "\n",
    "    # initialize the optimizer\n",
    "    optimizer = torch.optim.Adam(model.parameters(), lr=params['lr'])\n",
    "\n",
    "    # return both objects to calling function\n",
    "    return model, optimizer"
   ]
  },
  {
   "cell_type": "markdown",
   "metadata": {},
   "source": [
    "## Importing model"
   ]
  },
  {
   "cell_type": "code",
   "execution_count": 10,
   "metadata": {},
   "outputs": [
    {
     "data": {
      "text/plain": [
       "<All keys matched successfully>"
      ]
     },
     "execution_count": 10,
     "metadata": {},
     "output_type": "execute_result"
    }
   ],
   "source": [
    "# Loading absolute model\n",
    "with open('best_parameters_absolute.json', 'r') as f:\n",
    "    best_parameters = json.load(f)\n",
    "\n",
    "#Initializing the model (maybe not the right wording here)\n",
    "model_absolute, optimizer = generate_model_and_optimizer(best_parameters)\n",
    "model_dict = torch.load('embedding_model_noavg_absolute.pth')\n",
    "\n",
    "#Loading pre-saved weights to the model\n",
    "model_absolute.load_state_dict(model_dict)"
   ]
  },
  {
   "cell_type": "markdown",
   "metadata": {},
   "source": [
    "## Getting edge points"
   ]
  },
  {
   "cell_type": "code",
   "execution_count": 6,
   "metadata": {},
   "outputs": [],
   "source": [
    "#To get the points along the edge of the shape\n",
    "\n",
    "# To get points slightly inside the boundary \n",
    "shrink_dist = -0.25\n",
    "sh_alpha_shape = alpha_shape.buffer(shrink_dist)\n",
    "\n",
    "# Extract the boundary of the alpha shape\n",
    "boundary = sh_alpha_shape.boundary\n",
    "\n",
    "# Convert the boundary to a list of (x, y) coordinates\n",
    "boundary_coords = list(boundary.coords)\n",
    "\n",
    "# Convert the boundary coordinates to a NumPy array\n",
    "boundary_coords = np.array(boundary_coords)\n",
    "\n",
    "# Define desired arc length interval for sampling\n",
    "desired_interval = 0.75  # Adjust as needed\n",
    "\n",
    "# Sample points along the boundary at the desired interval\n",
    "sampled_points = []\n",
    "total_length = boundary.length\n",
    "current_length = 0\n",
    "while current_length < total_length:\n",
    "    point = boundary.interpolate(current_length)\n",
    "    x, y = point.x, point.y\n",
    "\n",
    "    # Compute the projection of the point onto the boundary\n",
    "    projected_point = sh_alpha_shape.exterior.interpolate(sh_alpha_shape.exterior.project(Point(x, y)))\n",
    "    \n",
    "    x_inside, y_inside = projected_point.x, projected_point.y\n",
    "    sampled_points.append((x_inside, y_inside))\n",
    "    \n",
    "    current_length += desired_interval\n",
    "\n",
    "# Convert sampled points to a NumPy array\n",
    "edge_sampled_points = np.array(sampled_points)\n"
   ]
  },
  {
   "cell_type": "markdown",
   "metadata": {},
   "source": [
    "## Plotting"
   ]
  },
  {
   "cell_type": "code",
   "execution_count": 7,
   "metadata": {},
   "outputs": [
    {
     "data": {
      "image/png": "[encoded data removed]",
      "text/plain": [
       "<Figure size 235.276x117.638 with 2 Axes>"
      ]
     },
     "metadata": {
      "needs_background": "light"
     },
     "output_type": "display_data"
    }
   ],
   "source": [
    "# Fig specs\n",
    "fig_width_in = 8.3 /2.54 \n",
    "aspect_ratio = 2\n",
    "fig_height_in = fig_width_in / aspect_ratio\n",
    "fontsize = 7\n",
    "\n",
    "# Defining figure\n",
    "fig, ax = plt.subplots(figsize = (fig_width_in, fig_height_in))\n",
    "\n",
    "# Getting alpha shape\n",
    "z_array = np.concatenate((np.asarray(df[\"Z0\"]).reshape(-1,1), np.asarray(df[\"Z1\"]).reshape(-1,1)), axis = 1)\n",
    "alpha_shape = alphashape(z_array, alpha = 1)\n",
    "plt.plot(*alpha_shape.exterior.xy, color='black', linewidth=1, label='Alpha Shape')\n",
    "\n",
    "# Lists to save points and segments\n",
    "linesegments = []\n",
    "pointlist = []\n",
    "points_in_mfld = []\n",
    "ps = np.arange(0,1.001,0.001)\n",
    "\n",
    "# Go through each edge point\n",
    "for point in edge_sampled_points:\n",
    "    points_in_mfld.append(point)\n",
    "    point_predict_list = []\n",
    "\n",
    "    # Find the predicted coordinate for each starting edge point and p value\n",
    "    for p in ps:\n",
    "        #Reset temporary coordinate\n",
    "        tempcoord = list(point)\n",
    "        #Add p value\n",
    "        tempcoord.append(p)\n",
    "        output = model_absolute(torch.Tensor(tempcoord))\n",
    "        point_predict_list.append(output.detach().numpy())\n",
    "    \n",
    "    # Making line segment for each pair of predicted points\n",
    "    cols = ps\n",
    "    point_path = np.vstack(point_predict_list)\n",
    "    xm = np.asarray(point_path[:,0])\n",
    "    ym = np.asarray(point_path[:,1])\n",
    "    points = np.array([xm, ym]).T.reshape(-1, 1, 2)\n",
    "    segments = np.concatenate([points[:-1], points[1:]], axis=1)\n",
    "\n",
    "    # Turning line segments into LineCollection colored by p\n",
    "    pointlist.append(points)\n",
    "    lc = LineCollection(segments, cmap='viridis')\n",
    "    linesegments.append(lc.get_segments())\n",
    "    lc.set_array(cols)\n",
    "    lc.set_linewidth(0.5)\n",
    "    line = ax.add_collection(lc)\n",
    "\n",
    "# Plotting\n",
    "plt.scatter(edge_sampled_points[:,0], edge_sampled_points[:,1], c = 'k', s = 1)\n",
    "cbar = fig.colorbar(line,ax=ax)\n",
    "cbar.set_label(\"p\", fontsize = fontsize)\n",
    "cbar.ax.tick_params(labelsize=fontsize) \n",
    "ax.set_xlabel(r'$Z_0$', fontsize = fontsize)\n",
    "ax.set_ylabel(r'$Z_1$', fontsize = fontsize)\n",
    "ax.tick_params(axis = 'x', labelsize = fontsize)\n",
    "ax.tick_params(axis = 'y', labelsize = fontsize)\n",
    "ax.set_aspect('equal')\n",
    "plt.show() "
   ]
  },
  {
   "cell_type": "markdown",
   "metadata": {},
   "source": [
    "### Save figure"
   ]
  },
  {
   "cell_type": "code",
   "execution_count": 20,
   "metadata": {},
   "outputs": [],
   "source": [
    "fig.savefig('traj_from_edges_fig_7.pdf', dpi = 600, bbox_inches = 'tight')"
   ]
  }
 ],
 "metadata": {
  "kernelspec": {
   "display_name": "base",
   "language": "python",
   "name": "python3"
  },
  "language_info": {
   "codemirror_mode": {
    "name": "ipython",
    "version": 3
   },
   "file_extension": ".py",
   "mimetype": "text/x-python",
   "name": "python",
   "nbconvert_exporter": "python",
   "pygments_lexer": "ipython3",
   "version": "3.9.7"
  }
 },
 "nbformat": 4,
 "nbformat_minor": 2
}
