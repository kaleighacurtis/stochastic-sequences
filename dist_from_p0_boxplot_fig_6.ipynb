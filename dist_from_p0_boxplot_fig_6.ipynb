{
 "cells": [
  {
   "cell_type": "markdown",
   "metadata": {},
   "source": [
    "# Code for generating Fig. 6"
   ]
  },
  {
   "cell_type": "markdown",
   "metadata": {},
   "source": [
    "## Imports"
   ]
  },
  {
   "cell_type": "code",
   "execution_count": 3,
   "metadata": {},
   "outputs": [],
   "source": [
    "import numpy as np \n",
    "import matplotlib.pyplot as plt\n",
    "import pandas as pd\n",
    "\n",
    "#Getting the full manifold data\n",
    "df = pd.read_csv('no_avg_dataset.csv')\n",
    "\n",
    "# Importing simulation data with sequence\n",
    "nia_with_seq_df = pd.read_csv('nn_inputs_with_seq.csv', dtype ={0: float, 1: float, 2: float, 3: str}, delim_whitespace= True, header = None )\n",
    "nia_with_seq = nia_with_seq_df.to_numpy()\n",
    "\n",
    "# Importing plain simulation data\n",
    "nia = np.load(\"nn_input.npy\") # neural net input array\n",
    "noa = np.load(\"nn_output.npy\") # neural net output array"
   ]
  },
  {
   "cell_type": "markdown",
   "metadata": {},
   "source": [
    "## Getting distance from p=0"
   ]
  },
  {
   "cell_type": "code",
   "execution_count": 4,
   "metadata": {},
   "outputs": [],
   "source": [
    "# Defining function to get euclidian distance between two points\n",
    "\n",
    "def euclid_dist(x1, y1, x2, y2, seq):\n",
    "    xs = (x2- x1) **2\n",
    "    ys = (y2-y1) **2\n",
    "    return np.sqrt(xs + ys), seq"
   ]
  },
  {
   "cell_type": "code",
   "execution_count": 5,
   "metadata": {},
   "outputs": [],
   "source": [
    "# Getting the euclidian distances for simulation data\n",
    "sim_dist, euclid_seqs= euclid_dist(nia[:,0], nia[:,1], noa[:,0],noa[:,1], nia_with_seq[:,3])\n",
    "sim_dist_with_p = np.concatenate((sim_dist.reshape(-1,1), nia[:,2].reshape(-1,1), noa, nia[:,0].reshape(-1,1), nia[:,1].reshape(-1,1)), axis = 1)\n",
    "seqs = nia_with_seq[:,3]\n",
    "\n",
    "# Sort the euclidian distances based on p\n",
    "sorted_indices = np.argsort(sim_dist_with_p[:, 1])\n",
    "unique_values = np.unique(sim_dist_with_p[:, 1])\n",
    "\n",
    "# Create new arrays sorted by p for boxplot\n",
    "new_arrays_sim = []\n",
    "new_seq_sim = []\n",
    "prev_index = 0\n",
    "for value in unique_values:\n",
    "    indices = sorted_indices[sim_dist_with_p[sorted_indices, 1] == value]\n",
    "    new_arrays_sim.append(sim_dist_with_p[indices])\n",
    "    new_seq_sim.append(euclid_seqs[indices])\n",
    "    prev_index = len(indices)"
   ]
  },
  {
   "cell_type": "markdown",
   "metadata": {},
   "source": [
    "## Plotting"
   ]
  },
  {
   "cell_type": "code",
   "execution_count": 14,
   "metadata": {},
   "outputs": [
    {
     "data": {
      "image/png": "[encoded data removed]",
      "text/plain": [
       "<Figure size 235.276x156.85 with 1 Axes>"
      ]
     },
     "metadata": {
      "needs_background": "light"
     },
     "output_type": "display_data"
    }
   ],
   "source": [
    "# Figure specs\n",
    "fig_width_in = 8.3 / 2.54  \n",
    "aspect_ratio = 1.5\n",
    "fig_height_in = fig_width_in / aspect_ratio\n",
    "fontsize = 7\n",
    "\n",
    "# Creating figure\n",
    "fig, ax = plt.subplots(figsize=(fig_width_in, fig_height_in))\n",
    "\n",
    "# Creating the boxplot using the simulation distances\n",
    "boxplot = ax.boxplot([arr[:, 0] for arr in new_arrays_sim], labels=[f'{value:.1f}' for value in unique_values])\n",
    "\n",
    "# Getting boxplot positions\n",
    "box_positions = [box.get_xdata().mean() for box in boxplot['boxes']]\n",
    "\n",
    "# Defining x tick values\n",
    "even_values = [0, 0.2, 0.4, 0.6, 0.8, 1]   \n",
    "\n",
    "# Setting new x tick values\n",
    "even_x_ticks = [box_positions[i] for i, value in enumerate(unique_values) if value in even_values]\n",
    "ax.set_xticks(even_x_ticks)\n",
    "ax.set_xticklabels([f'{value:.1f}' for value in even_values])\n",
    "\n",
    "# Set the labels and title\n",
    "ax.set_xlabel(r'$p$', fontsize = fontsize )\n",
    "ax.set_ylabel(\"Distance from \" +'$p=0$', fontsize = fontsize)\n",
    "ax.text(1, 16, 'Simulation Data', fontsize = fontsize)\n",
    "ax.tick_params(axis = 'x', labelsize = fontsize)\n",
    "ax.tick_params(axis = 'y', labelsize = fontsize)\n",
    "\n",
    "# Show plot\n",
    "plt.show()\n"
   ]
  },
  {
   "cell_type": "markdown",
   "metadata": {},
   "source": [
    "### Save figure"
   ]
  },
  {
   "cell_type": "code",
   "execution_count": null,
   "metadata": {},
   "outputs": [],
   "source": [
    "fig.savefig('dist_from_p0_boxplot_fig_6.pdf', dpi = 600, bbox_inches = 'tight')"
   ]
  }
 ],
 "metadata": {
  "kernelspec": {
   "display_name": "base",
   "language": "python",
   "name": "python3"
  },
  "language_info": {
   "codemirror_mode": {
    "name": "ipython",
    "version": 3
   },
   "file_extension": ".py",
   "mimetype": "text/x-python",
   "name": "python",
   "nbconvert_exporter": "python",
   "pygments_lexer": "ipython3",
   "version": "3.9.7"
  }
 },
 "nbformat": 4,
 "nbformat_minor": 2
}
