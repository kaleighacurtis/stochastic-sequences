{
 "cells": [
  {
   "cell_type": "markdown",
   "metadata": {},
   "source": [
    "# Code for generating the alpha shape in Fig. 1"
   ]
  },
  {
   "cell_type": "markdown",
   "metadata": {},
   "source": [
    "## Imports"
   ]
  },
  {
   "cell_type": "code",
   "execution_count": 1,
   "metadata": {},
   "outputs": [],
   "source": [
    "import numpy as np \n",
    "import matplotlib.pyplot as plt\n",
    "import pandas as pd\n",
    "from alphashape import alphashape\n",
    "\n",
    "#Getting the full manifold data\n",
    "df = pd.read_csv('no_avg_dataset.csv')\n",
    "\n",
    "#Getting the alpha shape\n",
    "z_array = np.concatenate((np.asarray(df[\"Z0\"]).reshape(-1,1), np.asarray(df[\"Z1\"]).reshape(-1,1)), axis = 1)\n",
    "alpha_shape = alphashape(z_array, alpha = 1)"
   ]
  },
  {
   "cell_type": "markdown",
   "metadata": {},
   "source": [
    "## Code for plotting alpha shape"
   ]
  },
  {
   "cell_type": "code",
   "execution_count": 2,
   "metadata": {},
   "outputs": [],
   "source": [
    "def plot_alpha_shape(alpha_shape, ax = None):\n",
    "    if ax is None:\n",
    "        plt.plot(*alpha_shape.exterior.xy, color='black', linewidth=1, label='Alpha Shape')\n",
    "        \n",
    "    else:\n",
    "        ax.plot(*alpha_shape.exterior.xy, color='black', linewidth=1, label='Alpha Shape')"
   ]
  },
  {
   "cell_type": "markdown",
   "metadata": {},
   "source": [
    "## Plotting"
   ]
  },
  {
   "cell_type": "code",
   "execution_count": 8,
   "metadata": {},
   "outputs": [
    {
     "data": {
      "image/png": "[encoded data removed]",
      "text/plain": [
       "<Figure size 235.276x117.638 with 1 Axes>"
      ]
     },
     "metadata": {
      "needs_background": "light"
     },
     "output_type": "display_data"
    }
   ],
   "source": [
    "# Fig specs\n",
    "fig_width_in = 8.3 /2.54 \n",
    "aspect_ratio = 2\n",
    "fig_height_in = fig_width_in / aspect_ratio\n",
    "fontsize = 7\n",
    "\n",
    "# Defining figure\n",
    "fig, ax = plt.subplots(figsize = (fig_width_in, fig_height_in))\n",
    "\n",
    "# Plotting blank alpha shape\n",
    "plot_alpha_shape(alpha_shape, ax = ax)\n",
    "ax.set_xlabel(r'$Z_0$', fontsize = fontsize)\n",
    "ax.set_ylabel(r'$Z_1$', fontsize = fontsize)\n",
    "ax.tick_params(axis = 'x', labelsize = fontsize)\n",
    "ax.tick_params(axis = 'y', labelsize = fontsize)\n",
    "ax.set_aspect('equal')\n",
    "plt.show()"
   ]
  },
  {
   "cell_type": "markdown",
   "metadata": {},
   "source": [
    "### Save figure"
   ]
  },
  {
   "cell_type": "code",
   "execution_count": null,
   "metadata": {},
   "outputs": [],
   "source": [
    "fig.savefig('blank_alpha_shape_fig_1.pdf', dpi = 600, bbox_inches = 'tight')"
   ]
  }
 ],
 "metadata": {
  "kernelspec": {
   "display_name": "base",
   "language": "python",
   "name": "python3"
  },
  "language_info": {
   "codemirror_mode": {
    "name": "ipython",
    "version": 3
   },
   "file_extension": ".py",
   "mimetype": "text/x-python",
   "name": "python",
   "nbconvert_exporter": "python",
   "pygments_lexer": "ipython3",
   "version": "3.9.7"
  }
 },
 "nbformat": 4,
 "nbformat_minor": 2
}
