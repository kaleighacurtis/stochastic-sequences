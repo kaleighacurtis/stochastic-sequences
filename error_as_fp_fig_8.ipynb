{
 "cells": [
  {
   "cell_type": "markdown",
   "metadata": {},
   "source": [
    "# Code for generating Fig. 8"
   ]
  },
  {
   "cell_type": "markdown",
   "metadata": {},
   "source": [
    "## Imports"
   ]
  },
  {
   "cell_type": "code",
   "execution_count": 1,
   "metadata": {},
   "outputs": [],
   "source": [
    "import matplotlib.pyplot as plt\n",
    "import pandas as pd\n",
    "import csv\n",
    "import json\n",
    "\n",
    "#Getting the full manifold data\n",
    "df = pd.read_csv('no_avg_dataset.csv')\n",
    "\n",
    "# Importing error as a function of p data\n",
    "error_fp_data = {}\n",
    "with open('error_fp_data.csv', 'r') as csv_file:\n",
    "    reader = csv.reader(csv_file)\n",
    "    for row in reader:\n",
    "        error_fp_data[row[0]] = list(json.loads(row[1]))\n",
    "\n",
    "# Extracting train, test, and val data from the dictionary\n",
    "avgs_train = error_fp_data['avgs_train']\n",
    "avgs_val = error_fp_data['avgs_val']\n",
    "avgs_test = error_fp_data['avgs_test']\n",
    "\n",
    "stds_train = error_fp_data['stds_train']\n",
    "stds_val = error_fp_data['stds_val']\n",
    "stds_test = error_fp_data['stds_test']\n"
   ]
  },
  {
   "cell_type": "markdown",
   "metadata": {},
   "source": [
    "### Plotting"
   ]
  },
  {
   "cell_type": "code",
   "execution_count": 3,
   "metadata": {},
   "outputs": [
    {
     "data": {
      "image/png": "[encoded data removed]",
      "text/plain": [
       "<Figure size 235.276x156.85 with 1 Axes>"
      ]
     },
     "metadata": {
      "needs_background": "light"
     },
     "output_type": "display_data"
    }
   ],
   "source": [
    "# Figure specs\n",
    "fig_width_in = 8.3 /2.54  \n",
    "aspect_ratio = 1.5\n",
    "fig_height_in = fig_width_in / aspect_ratio\n",
    "fontsize = 7\n",
    "\n",
    "# Defining figure\n",
    "fig, ax = plt.subplots(figsize = (fig_width_in, fig_height_in), sharex = True)\n",
    "\n",
    "\n",
    "# Defining colors\n",
    "colors = ['#1f77b4', '#ff7f0e', '#2ca02c']\n",
    "\n",
    "# Setting offset so plots don't overlap \n",
    "p_offset = 0.02\n",
    "\n",
    "ps = sorted(df[\"p\"].unique())\n",
    "labels_added = set()\n",
    "\n",
    "# Going through each p value \n",
    "for m, p in enumerate(ps):\n",
    "    train_p = p - p_offset\n",
    "\n",
    "    # Separating out first set of plots to make the legend easier\n",
    "    if 'Train' not in labels_added:\n",
    "        ax.scatter(train_p, avgs_train[m], color = colors[0],  label = 'Train')\n",
    "        ax.errorbar(train_p, avgs_train[m], yerr = stds_train[m], color = colors[0])\n",
    "        labels_added.add('Train')\n",
    "\n",
    "    else:\n",
    "        ax.scatter(train_p, avgs_train[m], color = colors[0])\n",
    "        ax.errorbar(train_p, avgs_train[m], yerr = stds_train[m], color = colors[0])\n",
    "\n",
    "    val_p = p\n",
    "    if 'Validation' not in labels_added:\n",
    "        ax.scatter(val_p, avgs_val[m], color = colors[1], label = 'Validation')\n",
    "        ax.errorbar(val_p, avgs_val[m], yerr = stds_val[m], color = colors[1])\n",
    "        labels_added.add('Validation')\n",
    "    else:\n",
    "        ax.scatter(val_p, avgs_val[m], color = colors[1])\n",
    "        ax.errorbar(val_p, avgs_val[m], yerr = stds_val[m], color = colors[1])\n",
    "\n",
    "    test_p = p + p_offset\n",
    "    if 'Test' not in labels_added:\n",
    "        ax.scatter(test_p, avgs_test[m], color = colors[2], label = 'Test')\n",
    "        ax.errorbar(test_p, avgs_test[m], yerr = stds_test[m], color = colors[2])\n",
    "        labels_added.add('Test')\n",
    "    else:\n",
    "        ax.scatter(test_p, avgs_test[m], color = colors[2])\n",
    "        ax.errorbar(test_p, avgs_test[m], yerr = stds_test[m], color = colors[2])\n",
    "\n",
    "# Setting plot parameters\n",
    "plt.rcParams.update({'font.size' : fontsize})\n",
    "plt.xlabel(r'$p$', fontsize = fontsize)\n",
    "plt.ylabel(\"Model RMSE\" ,fontsize = fontsize)\n",
    "\n",
    "ax.tick_params(axis = 'x', labelsize = fontsize)\n",
    "ax.tick_params(axis = 'y', labelsize = fontsize)\n",
    "plt.legend(ncol = 3, loc = 'lower right')\n",
    "\n",
    "# Show figure\n",
    "fig.show()"
   ]
  },
  {
   "cell_type": "markdown",
   "metadata": {},
   "source": [
    "### Save figure"
   ]
  },
  {
   "cell_type": "code",
   "execution_count": 5,
   "metadata": {},
   "outputs": [],
   "source": [
    "fig.savefig('error_as_fp_fig_8.pdf', dpi = 600, bbox_inches = 'tight')"
   ]
  }
 ],
 "metadata": {
  "kernelspec": {
   "display_name": "base",
   "language": "python",
   "name": "python3"
  },
  "language_info": {
   "codemirror_mode": {
    "name": "ipython",
    "version": 3
   },
   "file_extension": ".py",
   "mimetype": "text/x-python",
   "name": "python",
   "nbconvert_exporter": "python",
   "pygments_lexer": "ipython3",
   "version": "3.9.7"
  }
 },
 "nbformat": 4,
 "nbformat_minor": 2
}
